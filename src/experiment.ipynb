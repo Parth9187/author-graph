{
 "cells": [
  {
   "cell_type": "code",
   "execution_count": 2,
   "metadata": {},
   "outputs": [],
   "source": [
    "import os\n",
    "from pathlib import Path\n",
    "\n",
    "import networkx as nx\n",
    "import matplotlib.pyplot as plt"
   ]
  },
  {
   "cell_type": "code",
   "execution_count": 3,
   "metadata": {},
   "outputs": [],
   "source": [
    "def graph_vis(graph, image_path):\n",
    "    pos = nx.kamada_kawai_layout(graph)  \n",
    "\n",
    "    plt.figure(figsize=(15, 10))\n",
    "    nx.draw(graph, pos, node_size=15, alpha=0.4, width=0.3) \n",
    "\n",
    "    plt.savefig(image_path)\n",
    "\n",
    "    return True"
   ]
  },
  {
   "cell_type": "code",
   "execution_count": null,
   "metadata": {},
   "outputs": [],
   "source": [
    "figures_dir = Path(\"../figures\")\n",
    "if not os.path.isdir(figures_dir):\n",
    "    os.mkdir(figures_dir)\n",
    "\n",
    "chiwork_base_path = Path(\"../data/chiwork_base.gml\")\n",
    "chiwork_snowballed_path = Path(\"../data/chiwork_snowballed.gml\")\n",
    "chiwork_snowballed_abstracts_path = Path(\"../data/chiwork_snowball_abstracts.gml\")\n",
    "\n",
    "chiwork_graph = nx.read_gml(chiwork_base_path)\n",
    "chiwork_snowballed_graph = nx.read_gml(chiwork_snowballed_path)\n",
    "chiwork_snowballe_abstract_graph = nx.read_gml(chiwork_snowballed_abstracts_path)\n",
    "\n",
    "graph_vis(chiwork_graph, \"../figures/chiwork.png\")"
   ]
  },
  {
   "cell_type": "code",
   "execution_count": null,
   "metadata": {},
   "outputs": [],
   "source": [
    "graph_vis(chiwork_snowballed_graph, \"../figures/chiwork_snowball.png\")"
   ]
  },
  {
   "cell_type": "code",
   "execution_count": null,
   "metadata": {},
   "outputs": [],
   "source": [
    "graph_vis(chiwork_snowballe_abstract_graph, \"../figures/chiwork_showball_abstract.png\")"
   ]
  }
 ],
 "metadata": {
  "kernelspec": {
   "display_name": "AuthorName",
   "language": "python",
   "name": "python3"
  },
  "language_info": {
   "codemirror_mode": {
    "name": "ipython",
    "version": 3
   },
   "file_extension": ".py",
   "mimetype": "text/x-python",
   "name": "python",
   "nbconvert_exporter": "python",
   "pygments_lexer": "ipython3",
   "version": "3.10.13"
  }
 },
 "nbformat": 4,
 "nbformat_minor": 2
}
