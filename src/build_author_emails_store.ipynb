{
 "cells": [
  {
   "cell_type": "code",
   "execution_count": 2,
   "metadata": {},
   "outputs": [],
   "source": [
    "import networkx as nx\n",
    "\n",
    "import re\n",
    "import requests\n",
    "\n",
    "import io\n",
    "import PyPDF2\n",
    "\n",
    "import openai\n",
    "from openai import OpenAI"
   ]
  },
  {
   "cell_type": "code",
   "execution_count": 3,
   "metadata": {},
   "outputs": [],
   "source": [
    "chiwork_base = nx.read_gml(\"/Users/parthgoel/Desktop/AuthorName/data/chiwork_base.gml\")\n",
    "chiwork_abstracts = nx.read_gml(\"/Users/parthgoel/Desktop/AuthorName/data/chiwork_snowball_abstracts.gml\")"
   ]
  },
  {
   "cell_type": "code",
   "execution_count": 4,
   "metadata": {},
   "outputs": [],
   "source": [
    "def get_emails(url):\n",
    "    response = requests.get(url, stream=True)\n",
    "\n",
    "    if response.status_code != 200:\n",
    "        print(f\"Blocked!\")\n",
    "        return False\n",
    "\n",
    "    if not response.content[:len(b'%PDF-')] == b'%PDF-':\n",
    "                print(f\"Skipping URL ({url}): Not a PDF (based on file signature)\\n\")\n",
    "                return []\n",
    "\n",
    "    pdf_reader = PyPDF2.PdfReader(io.BytesIO(response.content))\n",
    "    num_pages = len(pdf_reader.pages)\n",
    "\n",
    "    text = \"\"\n",
    "    page = pdf_reader.pages[0]\n",
    "    text += page.extract_text()\n",
    "    \n",
    "    email_regex = r\"[a-zA-Z0-9_.+-]+@[a-zA-Z0-9-]+\\.[a-zA-Z0-9-.]+\"\n",
    "\n",
    "    email_matches = re.findall(email_regex, text)\n",
    "\n",
    "    acm_emails = [\"permissions@acm.org\", \"permissions@acm.org.\"]\n",
    "    email_matches = [email for email in email_matches if email not in acm_emails]\n",
    "\n",
    "    if email_matches == []:\n",
    "      print(\"No Emails Found\")\n",
    "      return []\n",
    "\n",
    "    return email_matches"
   ]
  },
  {
   "cell_type": "code",
   "execution_count": 5,
   "metadata": {},
   "outputs": [],
   "source": [
    "def query_openai(emails, author_names, api_key):\n",
    "  client = OpenAI(api_key = api_key)\n",
    "  model_choice = \"gpt-3.5-turbo\"\n",
    "\n",
    "  query = f\"\"\"\n",
    "    The list of author emails is: {emails}\n",
    "    The list of author names is: {author_names}\n",
    "\n",
    "    From the above list of emails and names, return a python dictionary of authors and their corresponding emails in this form:\n",
    "    'author1': 'email1\", 'author2': 'email2' etc.\n",
    "\n",
    "    If there are no or fewer emails than necessary, return a dictionary with as many elements as reasonable.\n",
    "    Respond with a single dictionary ONLY, no other text or words\n",
    "  \"\"\"\n",
    "\n",
    "  try:\n",
    "        response = client.chat.completions.create(\n",
    "        model=model_choice,\n",
    "        messages=[\n",
    "            {\"role\": \"system\", \"content\": \"You are an email analyser\"},\n",
    "            {\"role\": \"user\", \"content\": query}\n",
    "            ]\n",
    "        )\n",
    "        return eval(response.choices[0].message.content)\n",
    "\n",
    "  except Exception:\n",
    "        return False"
   ]
  },
  {
   "cell_type": "code",
   "execution_count": 6,
   "metadata": {},
   "outputs": [],
   "source": [
    "def get_papers_dict(graph):\n",
    "  papers_dict = {}\n",
    "\n",
    "  for u, v, data in graph.edges(data=True):\n",
    "      paper_doi, paper_title, paper_url, *info = data['paperinfo']\n",
    "      \n",
    "      if paper_doi not in papers_dict:\n",
    "          papers_dict[paper_doi] = {'title': paper_title, 'url': paper_url, \n",
    "                                    'misc': info, 'coauthors': []}\n",
    "      \n",
    "      if str(u) not in [coauthor['url'] for coauthor in papers_dict[paper_doi]['coauthors']]:\n",
    "          papers_dict[paper_doi]['coauthors'].append({'url': str(u), 'name': graph.nodes[u]['authorname']})\n",
    "      if str(v) not in [coauthor['url'] for coauthor in papers_dict[paper_doi]['coauthors']]:\n",
    "          papers_dict[paper_doi]['coauthors'].append({'url': str(v), 'name': graph.nodes[v]['authorname']})\n",
    "\n",
    "  return papers_dict\n",
    "\n",
    "papers_dict = get_papers_dict(chiwork_abstracts)"
   ]
  },
  {
   "cell_type": "code",
   "execution_count": 7,
   "metadata": {},
   "outputs": [],
   "source": [
    "def trim_papers_dict(papers_dict):\n",
    "    all_authors = set()\n",
    "    papers_to_remove = []\n",
    "\n",
    "    for doi, paper_data in papers_dict.items():\n",
    "      \n",
    "        authors_in_this_paper = {author['url'] for author in paper_data['coauthors']}\n",
    "\n",
    "        if authors_in_this_paper.issubset(all_authors):\n",
    "            papers_to_remove.append((doi, len(authors_in_this_paper)))\n",
    "            continue\n",
    "\n",
    "        if 'CLOSED' in paper_data['misc'] or 'OPEN':\n",
    "            papers_to_remove.append((doi, len(authors_in_this_paper)))  \n",
    "            continue  \n",
    "\n",
    "        all_authors.update(authors_in_this_paper)\n",
    "\n",
    "    papers_to_remove.sort(key=lambda x: x[1])  \n",
    "\n",
    "    for doi, _ in papers_to_remove:\n",
    "        del papers_dict[doi]\n",
    "\n",
    "    return papers_dict\n",
    "\n",
    "trimmed = trim_papers_dict(papers_dict)"
   ]
  },
  {
   "cell_type": "code",
   "execution_count": 8,
   "metadata": {},
   "outputs": [],
   "source": [
    "doi_list = [item['url'] for item in trimmed.values()]\n",
    "pdf_url_list = [re.sub(r'^https://doi\\.org/', r'https://dl.acm.org/doi/pdf/', url) for url in doi_list]"
   ]
  },
  {
   "cell_type": "code",
   "execution_count": 70,
   "metadata": {},
   "outputs": [
    {
     "name": "stdout",
     "output_type": "stream",
     "text": [
      "105\n"
     ]
    }
   ],
   "source": [
    "with open(\"/Users/parthgoel/Desktop/AuthorName/data/temp_index.txt\") as index_store:\n",
    "    index_start = index_store.readlines()\n",
    "    if index_start != []:\n",
    "        index_start = int(index_start[-1])\n",
    "\n",
    "print(index_start)"
   ]
  },
  {
   "cell_type": "code",
   "execution_count": 71,
   "metadata": {},
   "outputs": [
    {
     "name": "stdout",
     "output_type": "stream",
     "text": [
      "Processing https://dl.acm.org/doi/pdf/10.1145/3604254\n",
      "Processing https://dl.acm.org/doi/pdf/10.1145/3643558\n",
      "Processing https://dl.acm.org/doi/pdf/10.1145/3596671.3598576\n",
      "Processing https://dl.acm.org/doi/pdf/10.1145/3491102.3501831\n",
      "Processing https://dl.acm.org/doi/pdf/10.1145/3582269.3615595\n",
      "Processing https://dl.acm.org/doi/pdf/10.1145/3491102.3517546\n",
      "Processing https://dl.acm.org/doi/pdf/10.1145/3610092\n",
      "Processing https://dl.acm.org/doi/pdf/10.1145/3563657.3595982\n",
      "Processing https://dl.acm.org/doi/pdf/10.1145/3555202\n",
      "No Emails Found\n",
      "Processing https://dl.acm.org/doi/pdf/10.1145/3544548.3580882\n",
      "Processing https://dl.acm.org/doi/pdf/10.1145/3531146.3533110\n",
      "Processing https://dl.acm.org/doi/pdf/10.1145/3479535\n",
      "Processing https://dl.acm.org/doi/pdf/10.1145/3531146.3533113\n",
      "Processing https://dl.acm.org/doi/pdf/10.1145/3610925\n",
      "Processing https://dl.acm.org/doi/pdf/10.1002/asi.24205\n",
      "Skipping URL (https://dl.acm.org/doi/pdf/10.1002/asi.24205): Not a PDF (based on file signature)\n",
      "\n",
      "Processing https://dl.acm.org/doi/pdf/10.1145/2445572.2445577\n",
      "Processing https://dl.acm.org/doi/pdf/10.1145/3173574.3173725\n",
      "{'Mark Colley': 'mark.colley@uni-ulm.de', 'Cristina Evangelista': 'cristina.evangelista@uni-ulm.de', 'Tito Daza Rubiano': 'tito.daza-rubiano@uni-ulm.de', 'Enrico Rukzio': 'enrico.rukzio@uni-ulm.de', 'Pascal Jansen': 'pascal.jansen@uni-ulm.de', 'Albin Zeqiri': 'albin.zeqiri@uni-ulm.de', 'Jan Ole Rixen': 'jan.rixen@uni-ulm.de', 'Michael Rietzler': 'michael.rietzler@uni-ulm.de', 'Jane Hsieh': 'jhsieh2@cs.cmu.edu', 'Oluwatobi Adisa': 'oadisa@andrew.cmu.edu', 'Sachi Bafna': 'sachib@andrew.cmu.edu', 'Haiyi Zhu': 'haiyiz@cs.cmu.edu', 'Anna Kawakami': 'haiyiz@cs.cmu.eduKenneth', 'Yanghuidi Cheng': 'lguerdan@cs.cmu.eduYanghuidi', 'Kenneth Holstein': 'kjholste@cs.cmu.edu', 'Logan Stapleton': 'stapl158@umn.edu', 'Diana Qing': 'dianaqing@berkeley.edu', 'Zhiwei Steven Wu': 'zstevenwu@cmu.edu', 'Venkatesh Sivaraman': 'vsivaram@andrew.cmu.edu', 'Hao-Fei Cheng': 'haofeic@andrew.cmu.edu', 'Adam Perer': 'adamperer@cmu.edu', 'Luke Guerdan': 'akawakam@cs.cmu.eduLuke', 'Matthew Lee': 'matt.lee@tri.globalScott', 'Scott Carter': 'scott.carter@tri.globalNikos', 'Nikos Arechiga': 'nikos.arechiga@tri.global', 'Yili Hong': 'yilihong@uh.edu', 'Gordon Burtch': 'gburtch@bu.edu', 'Joselyn Kim': 'jhsieh2@cs.cmu.edu', 'Laura Dabbish': 'dabbish@cs.cmu.edu', 'Miranda Karger': 'mak2307@barnard.edu', 'Tzu-Sheng Kuo': 'tzushenk@cs.cmu.edu', 'Jisoo Geum': 'geumjisoo@gmail.com', 'Nev Jones': 'nevjones@pitt.edu', 'Jason I. Hong': 'jasonh@cs.cmu.edu', 'Hong Shen': 'hongs@cs.cmu.edu', 'Wesley Hanwen Deng': 'hanwend@cs.cmu.edu', 'Ciell Brusse': 'ciell.wikipedia@gmail.com', 'Ronald Velgersdijk': 'wikipedia@ronaldvelgersdijk.nl', 'Zheng Yao': 'zyao2@cs.cmu.edu', 'Silas Weden': 'sweden@smith.edu', 'Lea Emerlyn': 'leas@andrew.cmu.edu', 'Robert E. Kraut': 'robert.kraut@cmu.edu.', 'Manish Nagireddy': 'mnagired@andrew.cmu.edu', 'Michelle Seng Ah Lee': 'michelle.sengah.lee@cl.cam.ac.uk', 'Jatinder Singh': 'jatinder.singh@cl.cam.ac.uk', 'Tim Duente': 'tim.duente@hci.uni-hannover.de', 'Dennis Stanke': 'dennis.stanke@hci.uni-hannover.de', 'Sheng Li': 'sheng.li@hp.com', 'Richard D. Strong': 'rstrong@cs.ucsd.edu', 'Dean M. Tullsen': 'tullsen@cs.ucsd.edu', 'Angelika Strohmayer': '', 'Peter Wright': '', 'Geraldine Fitzpatrick': 'geraldine.fitzpatrick@tuwien.ac.at'}\n"
     ]
    }
   ],
   "source": [
    "master_emails_dict = dict()\n",
    "# api_key = \"YOUR API KEY HERE\"\n",
    "\n",
    "for url in pdf_url_list[index_start:]:\n",
    "  print(f\"Processing {url}\")\n",
    "\n",
    "  emails = get_emails(url)\n",
    "\n",
    "  if emails == False:\n",
    "\n",
    "    index_of_break = pdf_url_list.index(url)\n",
    "    print(f\"\\n Scrapping Blocked. Resume from: {index_of_break}\")\n",
    "    with open(\"/Users/parthgoel/Desktop/AuthorName/data/temp_index.txt\", \"w\") as index_store:\n",
    "        index_store.write(f\"{index_of_break}\")\n",
    "\n",
    "    break\n",
    "\n",
    "  names = [author['name'] for author in papers_dict[url.split(\"pdf/\")[-1]]['coauthors']]\n",
    "\n",
    "  if emails != []:\n",
    "    names_to_emails = query_openai(emails, names, api_key)\n",
    "    master_emails_dict.update(names_to_emails)\n",
    "\n",
    "\n",
    "print(master_emails_dict)"
   ]
  },
  {
   "cell_type": "code",
   "execution_count": 72,
   "metadata": {},
   "outputs": [],
   "source": [
    "import json\n",
    "dict_path = \"/Users/parthgoel/Desktop/AuthorName/data/intermediate_data/emails_dict.txt\"\n",
    "\n",
    "with open(dict_path, \"a\") as d_path:\n",
    "    json_str = json.dumps(master_emails_dict)\n",
    "    d_path.write(json_str + '\\n')"
   ]
  },
  {
   "cell_type": "code",
   "execution_count": null,
   "metadata": {},
   "outputs": [],
   "source": []
  }
 ],
 "metadata": {
  "kernelspec": {
   "display_name": "AuthorName",
   "language": "python",
   "name": "python3"
  },
  "language_info": {
   "codemirror_mode": {
    "name": "ipython",
    "version": 3
   },
   "file_extension": ".py",
   "mimetype": "text/x-python",
   "name": "python",
   "nbconvert_exporter": "python",
   "pygments_lexer": "ipython3",
   "version": "3.10.13"
  }
 },
 "nbformat": 4,
 "nbformat_minor": 2
}
