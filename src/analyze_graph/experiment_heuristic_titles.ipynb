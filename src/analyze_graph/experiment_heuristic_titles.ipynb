{
 "cells": [
  {
   "cell_type": "code",
   "execution_count": null,
   "metadata": {},
   "outputs": [],
   "source": [
    "import networkx as nx\n",
    "graph = nx.read_gml(\"Watts-Lab/author-graph/data/expanded_graph.gml\")"
   ]
  },
  {
   "cell_type": "code",
   "execution_count": null,
   "metadata": {},
   "outputs": [],
   "source": [
    "def get_titles(graph, author_id):\n",
    "  titles = list()\n",
    "\n",
    "  for edge in graph.edges(author_id, data=True):\n",
    "    titles.append(edge[2][\"paperinfo\"][1])\n",
    "\n",
    "  return list(set(titles))"
   ]
  },
  {
   "cell_type": "code",
   "execution_count": null,
   "metadata": {},
   "outputs": [],
   "source": [
    "titles = get_titles(graph, \"https://dl.acm.org/profile/99660481048\")\n",
    "titles"
   ]
  },
  {
   "cell_type": "code",
   "execution_count": null,
   "metadata": {},
   "outputs": [],
   "source": [
    "from sklearn.feature_extraction.text import TfidfVectorizer\n",
    "from sklearn.metrics.pairwise import cosine_similarity\n",
    "\n",
    "import pandas as pd"
   ]
  },
  {
   "cell_type": "code",
   "execution_count": null,
   "metadata": {},
   "outputs": [],
   "source": [
    "vectorizer = TfidfVectorizer(stop_words='english')\n",
    "matrix = vectorizer.fit_transform(titles)"
   ]
  },
  {
   "cell_type": "code",
   "execution_count": null,
   "metadata": {},
   "outputs": [],
   "source": [
    "# If matrix visualization helps:\n",
    "\n",
    "feature_names = vectorizer.get_feature_names_out()\n",
    "tfidf_df = pd.DataFrame(matrix.toarray(), columns=feature_names, index=titles)\n",
    "# tfidf_df"
   ]
  },
  {
   "cell_type": "code",
   "execution_count": null,
   "metadata": {},
   "outputs": [],
   "source": [
    "def calculate_connection_strengths(graph, author_id):\n",
    "\n",
    "    titles = get_titles(graph, author_id)\n",
    "    tfidf = TfidfVectorizer(stop_words='english')\n",
    "    tfidf_matrix = tfidf.fit_transform(titles)\n",
    "\n",
    "    feature_names = tfidf.get_feature_names_out()\n",
    "    tfidf_df = pd.DataFrame(tfidf_matrix.toarray(), columns=feature_names, index=titles)\n",
    "\n",
    "    cosine_sim = cosine_similarity(tfidf_matrix)\n",
    "\n",
    "    connection_strengths = {}\n",
    "    for neighbor in graph.neighbors(author_id):\n",
    "        neighbor_titles = get_titles(graph, neighbor)\n",
    "        neighbor_tfidf = tfidf.transform(neighbor_titles)\n",
    "        sim = cosine_similarity(tfidf_matrix, neighbor_tfidf).mean()\n",
    "        connection_strengths[neighbor] = sim\n",
    "\n",
    "    return connection_strengths, tfidf_df\n",
    "\n",
    "calculate_connection_strengths(graph, \"https://dl.acm.org/profile/99660481048\")"
   ]
  },
  {
   "cell_type": "code",
   "execution_count": null,
   "metadata": {},
   "outputs": [],
   "source": [
    "def calculate_connection_strengths(graph, author_id):\n",
    "    titles = get_titles(graph, author_id)\n",
    "    tfidf = TfidfVectorizer(stop_words='english')\n",
    "    tfidf_matrix = tfidf.fit_transform(titles)\n",
    "\n",
    "    cosine_sim = cosine_similarity(tfidf_matrix)\n",
    "\n",
    "    connection_strengths = {}\n",
    "    for neighbor in graph.neighbors(author_id):\n",
    "        neighbor_titles = get_titles(graph, neighbor)\n",
    "        neighbor_tfidf = tfidf.transform(neighbor_titles)\n",
    "        sim = cosine_similarity(tfidf_matrix, neighbor_tfidf).mean()\n",
    "        connection_strengths[neighbor] = sim\n",
    "\n",
    "    max_strength = max(connection_strengths.values())\n",
    "    normalized_strengths = {k: v / max_strength for k, v in connection_strengths.items()}\n",
    "\n",
    "    for neighbor, strength in normalized_strengths.items():\n",
    "        print(f\"{neighbor}: {strength:.2f} strength\")\n",
    "\n",
    "    return connection_strengths"
   ]
  },
  {
   "cell_type": "code",
   "execution_count": null,
   "metadata": {},
   "outputs": [],
   "source": [
    "calculate_connection_strengths(graph, \"https://dl.acm.org/profile/99660481048\")"
   ]
  },
  {
   "cell_type": "code",
   "execution_count": null,
   "metadata": {},
   "outputs": [],
   "source": [
    "import gensim\n",
    "from gensim import corpora\n",
    "from gensim.models import LdaModel\n",
    "from gensim.matutils import hellinger\n",
    "\n",
    "def preprocess_titles(titles):\n",
    "\n",
    "    processed_titles = []\n",
    "    for title in titles:\n",
    "        tokens = gensim.utils.simple_preprocess(title, deacc=True)\n",
    "        processed_titles.append(tokens)\n",
    "    return processed_titles\n",
    "\n",
    "def calculate_topic_similarity(graph, author_id):\n",
    "\n",
    "    titles = get_titles(graph, author_id)\n",
    "    processed_titles = preprocess_titles(titles)\n",
    "\n",
    "    dictionary = corpora.Dictionary(processed_titles)\n",
    "    corpus = [dictionary.doc2bow(text) for text in processed_titles]\n",
    "\n",
    "    lda_model = LdaModel(corpus, num_topics=5, id2word=dictionary, passes=15)\n",
    "\n",
    "    author_topic_distributions = [lda_model[doc] for doc in corpus]\n",
    "\n",
    "    connection_strengths = {}\n",
    "    for neighbor in graph.neighbors(author_id):\n",
    "        neighbor_titles = get_titles(graph, neighbor)\n",
    "        neighbor_processed_titles = preprocess_titles(neighbor_titles)\n",
    "        neighbor_corpus = [dictionary.doc2bow(text) for text in neighbor_processed_titles]\n",
    "\n",
    "        neighbor_avg_distribution = [0] * lda_model.num_topics\n",
    "        for doc_bow in neighbor_corpus:\n",
    "            for topic, prob in lda_model.get_document_topics(doc_bow):\n",
    "                neighbor_avg_distribution[topic] += prob\n",
    "        neighbor_avg_distribution = [prob / len(neighbor_corpus) for prob in neighbor_avg_distribution]\n",
    "\n",
    "\n",
    "        sims = []\n",
    "        for author_distribution in author_topic_distributions:\n",
    "            author_distribution_complete = [0] * lda_model.num_topics\n",
    "            for topic, prob in author_distribution:\n",
    "                author_distribution_complete[topic] = prob\n",
    "\n",
    "            sims.append(hellinger(neighbor_avg_distribution, author_distribution_complete))\n",
    "\n",
    "\n",
    "        avg_sim = sum(sims) / len(sims) if sims else 0\n",
    "        connection_strengths[neighbor] = avg_sim\n",
    "\n",
    "    return connection_strengths"
   ]
  },
  {
   "cell_type": "code",
   "execution_count": null,
   "metadata": {},
   "outputs": [],
   "source": [
    "from transformers import BertTokenizer, BertModel\n",
    "import torch\n",
    "from scipy.spatial.distance import cosine as cosine_distance\n",
    "\n",
    "tokenizer = BertTokenizer.from_pretrained('bert-base-uncased')\n",
    "model = BertModel.from_pretrained('bert-base-uncased')\n",
    "\n",
    "def encode_titles(titles):\n",
    "    encoded_input = tokenizer(titles, padding=True, truncation=True, return_tensors='pt', max_length=512)\n",
    "    with torch.no_grad():\n",
    "        model_output = model(**encoded_input)\n",
    "    return model_output.last_hidden_state.mean(dim=1)\n",
    "\n",
    "def calculate_bert_similarity(graph, author_id):\n",
    "    titles = get_titles(graph, author_id)\n",
    "    author_vectors = encode_titles(titles)\n",
    "\n",
    "    connection_strengths = {}\n",
    "    for neighbor in graph.neighbors(author_id):\n",
    "        neighbor_titles = get_titles(graph, neighbor)\n",
    "        neighbor_vectors = encode_titles(neighbor_titles)\n",
    "\n",
    "        similarities = [1 - cosine_distance(author_vectors[i].numpy(), neighbor_vectors[j].numpy())\n",
    "                        for i in range(len(author_vectors))\n",
    "                        for j in range(len(neighbor_vectors))]\n",
    "\n",
    "        avg_similarity = sum(similarities) / len(similarities) if similarities else 0\n",
    "        connection_strengths[neighbor] = avg_similarity\n",
    "\n",
    "    return connection_strengths"
   ]
  },
  {
   "cell_type": "code",
   "execution_count": null,
   "metadata": {},
   "outputs": [],
   "source": [
    "calculate_bert_similarity(graph, \"https://dl.acm.org/profile/81100280834\")"
   ]
  }
 ],
 "metadata": {
  "kernelspec": {
   "display_name": "AuthorName",
   "language": "python",
   "name": "python3"
  },
  "language_info": {
   "codemirror_mode": {
    "name": "ipython",
    "version": 3
   },
   "file_extension": ".py",
   "mimetype": "text/x-python",
   "name": "python",
   "nbconvert_exporter": "python",
   "pygments_lexer": "ipython3",
   "version": "3.10.13"
  }
 },
 "nbformat": 4,
 "nbformat_minor": 2
}
