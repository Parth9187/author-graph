{
 "cells": [
  {
   "cell_type": "code",
   "execution_count": null,
   "metadata": {},
   "outputs": [],
   "source": [
    "import os\n",
    "from pathlib import Path\n",
    "\n",
    "import networkx as nx\n",
    "\n",
    "from generate_graph.proceedings_base import crawl_proceedings\n",
    "from generate_graph.snowball import snowball_generator\n",
    "from generate_graph.utils import expand_graph"
   ]
  },
  {
   "cell_type": "code",
   "execution_count": 2,
   "metadata": {},
   "outputs": [],
   "source": [
    "data_dir = Path(\"../data\")\n",
    "if not os.path.isdir(data_dir):\n",
    "    os.mkdir(data_dir)\n",
    "\n",
    "idx_storage = Path(\"../data/intermediate_data/temp_index.txt\")\n",
    "if not os.path.isfile(idx_storage):\n",
    "    with open(idx_storage, \"w+\"): pass"
   ]
  },
  {
   "cell_type": "code",
   "execution_count": null,
   "metadata": {},
   "outputs": [],
   "source": [
    "chiwork_base_path = Path(\"../data/chiwork_base.gml\")\n",
    "expanded_graph_path = Path(\"../data/chiwork_snowball_abstracts.gml\")\n",
    "\n",
    "if not os.path.isfile(chiwork_base_path):\n",
    "\n",
    "    with open(chiwork_base_path, \"w+\"): pass\n",
    "    chiwork_source = nx.Graph()\n",
    "\n",
    "    chiwork22_nodes, chiwork22_edges, _ = crawl_proceedings(\"https://dl.acm.org/doi/proceedings/10.1145/3533406\", \"https://dl.acm.org\")\n",
    "    chiwork23_nodes, chiwork23_edges, _ = crawl_proceedings(\"https://dl.acm.org/doi/proceedings/10.1145/3596671\", \"https://dl.acm.org\")\n",
    "\n",
    "    print(f\"Number of Nodes in CHIWORK'22: {len(chiwork22_nodes)}\")\n",
    "    print(f\"Number of Edges in CHIWORK'22: {len(chiwork22_edges)}\")\n",
    "    print(f\"Number of Nodes in CHIWORK'23: {len(chiwork23_nodes)}\")\n",
    "    print(f\"Number of Edges in CHIWORK'23: {len(chiwork23_edges)}\\n\")\n",
    "\n",
    "    expand_graph(chiwork_source, chiwork22_nodes, chiwork22_edges)\n",
    "    expand_graph(chiwork_source, chiwork23_nodes, chiwork23_edges)\n",
    "\n",
    "    print(f\"Number of Nodes: {len(chiwork_source.nodes)}\")\n",
    "    print(f\"Number of Edges: {len(chiwork_source.edges)}\\n\")\n",
    "\n",
    "    nx.write_gml(chiwork_source, chiwork_base_path)\n",
    "\n",
    "else:\n",
    "    chiwork_source = nx.read_gml(chiwork_base_path)\n",
    "\n",
    "    print(f\"Number of Nodes: {len(chiwork_source.nodes)}\")\n",
    "    print(f\"Number of Edges: {len(chiwork_source.edges)}\\n\")\n",
    "\n",
    "\n",
    "if not os.path.isfile(expanded_graph_path):\n",
    "    with open(expanded_graph_path, \"w+\"): pass\n",
    "    expanded_graph = nx.read_gml(chiwork_base_path)\n",
    "\n",
    "else:\n",
    "    expanded_graph = nx.read_gml(expanded_graph_path)\n",
    "\n",
    "    print(f\"Number of Nodes: {len(expanded_graph.nodes)}\")\n",
    "    print(f\"Number of Edges: {len(expanded_graph.edges)}\\n\")"
   ]
  },
  {
   "cell_type": "code",
   "execution_count": null,
   "metadata": {},
   "outputs": [],
   "source": [
    "def snowball(graph_source, \n",
    "             graph_output,\n",
    "             idx=False):\n",
    "    \n",
    "    nodes_list = list(graph_source.nodes)\n",
    "    if idx:\n",
    "        with open(idx_storage) as index_store:\n",
    "            index_start = index_store.readlines()\n",
    "            if index_start != []:\n",
    "                index_start = int(index_start[-1])\n",
    "                nodes_list = nodes_list[index_start:]\n",
    "\n",
    "                print(f\"Starting from {index_start}\")\n",
    "\n",
    "    for node in nodes_list:\n",
    "        _ = snowball_generator(graph_output, node)\n",
    "        print(_)\n",
    "        if not _: \n",
    "            with open(idx_storage, \"w\") as index_store:\n",
    "                index_store.write(f\"{list(graph_source.nodes).index(node)}\")\n",
    "            break\n",
    "\n",
    "snowball(chiwork_source, expanded_graph, True)"
   ]
  },
  {
   "cell_type": "code",
   "execution_count": null,
   "metadata": {},
   "outputs": [],
   "source": [
    "print(f\"Number of Nodes: {len(expanded_graph.nodes)}\")\n",
    "print(f\"Number of Edges: {len(expanded_graph.edges)}\")"
   ]
  },
  {
   "cell_type": "code",
   "execution_count": null,
   "metadata": {},
   "outputs": [],
   "source": [
    "with open(expanded_graph_path, \"w\") as remove:\n",
    "    remove.truncate(0)\n",
    "    \n",
    "nx.write_gml(expanded_graph, expanded_graph_path)"
   ]
  }
 ],
 "metadata": {
  "kernelspec": {
   "display_name": "AuthorName",
   "language": "python",
   "name": "python3"
  },
  "language_info": {
   "codemirror_mode": {
    "name": "ipython",
    "version": 3
   },
   "file_extension": ".py",
   "mimetype": "text/x-python",
   "name": "python",
   "nbconvert_exporter": "python",
   "pygments_lexer": "ipython3",
   "version": "3.10.13"
  }
 },
 "nbformat": 4,
 "nbformat_minor": 2
}
